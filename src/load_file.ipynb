{
 "cells": [
  {
   "cell_type": "code",
   "execution_count": 0,
   "metadata": {
    "application/vnd.databricks.v1+cell": {
     "cellMetadata": {
      "byteLimit": 2048000,
      "rowLimit": 10000
     },
     "inputWidgets": {},
     "nuid": "9ee48e35-7304-4f38-aff7-dc4ecaf7e324",
     "showTitle": false,
     "title": ""
    }
   },
   "outputs": [],
   "source": [
    "%run \"./extractor_file\""
   ]
  },
  {
   "cell_type": "code",
   "execution_count": 0,
   "metadata": {
    "application/vnd.databricks.v1+cell": {
     "cellMetadata": {
      "byteLimit": 2048000,
      "rowLimit": 10000
     },
     "inputWidgets": {},
     "nuid": "4d89b15b-a244-48fe-8b3c-c0db08aa3ae2",
     "showTitle": false,
     "title": ""
    }
   },
   "outputs": [],
   "source": [
    "%run \"./transform_file\""
   ]
  },
  {
   "cell_type": "code",
   "execution_count": 0,
   "metadata": {
    "application/vnd.databricks.v1+cell": {
     "cellMetadata": {
      "byteLimit": 2048000,
      "rowLimit": 10000
     },
     "inputWidgets": {},
     "nuid": "db72a12c-4075-44f9-b2d5-9f9eb7d448d6",
     "showTitle": false,
     "title": ""
    }
   },
   "outputs": [],
   "source": [
    "%run \"./data_factory_loader_pattern\""
   ]
  },
  {
   "cell_type": "code",
   "execution_count": 0,
   "metadata": {
    "application/vnd.databricks.v1+cell": {
     "cellMetadata": {
      "byteLimit": 2048000,
      "rowLimit": 10000
     },
     "inputWidgets": {},
     "nuid": "0b631586-dc8e-43dd-acdd-e6386437023a",
     "showTitle": false,
     "title": ""
    }
   },
   "outputs": [],
   "source": [
    "class Loader:\n",
    "    def __init__(self,transformDF):\n",
    "        self.transformDF = transformDF\n",
    "    def sink(self):\n",
    "        \"\"\"\n",
    "            This is the abstract method.\n",
    "        \"\"\"\n",
    "        raise ValueError(\"Method not Implemented yet\")\n",
    "\n",
    "class AirpodsafterIphone(Loader):\n",
    "    def sink(self):\n",
    "        # get_sink_source(sink_type,df,load_path,mode,part_subs=None):\n",
    "        get_sink_source(\"dbfs\",self.transformDF,\"dbfs:/FileStore/tables/apple_output_analysis/AirpodsafterIphone\",\"overwrite\")\n",
    "        print(\"Loading completed to the datalake\")\n",
    "\n",
    "class OnlyIphoneandAirPods(Loader):\n",
    "\n",
    "    def sink(self):\n",
    "        params = {\n",
    "            \"partition_by_columns\": \"location\"\n",
    "        }\n",
    "        get_sink_source(\"dbfs_with_partition\",self.transformDF,\"dbfs:/FileStore/tables/apple_output_analysis/OnlyIphoneAndAirpods\",\"overwrite\",params)\n",
    "        print(\"Loading completed to datalake by location partition\")\n",
    "\n",
    "class ProductsInitialPurchase(Loader):\n",
    "\n",
    "    def sink(self):\n",
    "        get_sink_source(\"dbfs\",self.transformDF,\"dbfs:/FileStore/tables/apple_output_analysis/ProductsAfterInitialPuchase\",\"overwrite\")\n",
    "        print(\"Loading completed to the datalake\")\n",
    "\n",
    "class AveragetimeDelayProducts(Loader):\n",
    "    def sink(self):\n",
    "        # get_sink_source(sink_type,df,load_path,mode,part_subs=None):\n",
    "        get_sink_source(\"dbfs\",self.transformDF,\"dbfs:/FileStore/tables/apple_output_analysis/AvgTimeIphoneAndAirPods\",\"overwrite\")\n",
    "        print(\"Loading completed to the datalake\")\n",
    "\n",
    "class Top3productsrevenue(Loader):\n",
    "    def sink(self):\n",
    "        # get_sink_source(sink_type,df,load_path,mode,part_subs=None):\n",
    "        get_sink_source(\"dbfs\",self.transformDF,\"dbfs:/FileStore/tables/apple_output_analysis/Top3ProductsRevenue\",\"overwrite\")\n",
    "        print(\"Loading completed to the datalake\")\n",
    "\n"
   ]
  }
 ],
 "metadata": {
  "application/vnd.databricks.v1+notebook": {
   "dashboards": [],
   "environmentMetadata": null,
   "language": "python",
   "notebookMetadata": {
    "pythonIndentUnit": 4
   },
   "notebookName": "load_file",
   "widgets": {}
  }
 },
 "nbformat": 4,
 "nbformat_minor": 0
}
