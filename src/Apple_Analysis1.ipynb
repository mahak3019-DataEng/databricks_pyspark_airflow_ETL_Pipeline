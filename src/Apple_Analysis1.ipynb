{
 "cells": [
  {
   "cell_type": "code",
   "execution_count": 0,
   "metadata": {
    "application/vnd.databricks.v1+cell": {
     "cellMetadata": {
      "byteLimit": 2048000,
      "rowLimit": 10000
     },
     "inputWidgets": {},
     "nuid": "ec310597-92e1-46e0-96ea-10b0d64087da",
     "showTitle": false,
     "title": ""
    }
   },
   "outputs": [],
   "source": [
    "%run \"./data_factory_reader_pattern\""
   ]
  },
  {
   "cell_type": "code",
   "execution_count": 0,
   "metadata": {
    "application/vnd.databricks.v1+cell": {
     "cellMetadata": {
      "byteLimit": 2048000,
      "rowLimit": 10000
     },
     "inputWidgets": {},
     "nuid": "7209a15f-73d0-44d3-8c86-4bf04f78d974",
     "showTitle": false,
     "title": ""
    }
   },
   "outputs": [],
   "source": [
    "%run \"./transform_file\""
   ]
  },
  {
   "cell_type": "code",
   "execution_count": 0,
   "metadata": {
    "application/vnd.databricks.v1+cell": {
     "cellMetadata": {
      "byteLimit": 2048000,
      "rowLimit": 10000
     },
     "inputWidgets": {},
     "nuid": "a4a2efbd-e1b5-409b-a602-d22f942209c7",
     "showTitle": false,
     "title": ""
    }
   },
   "outputs": [],
   "source": [
    "%run \"./extractor_file\""
   ]
  },
  {
   "cell_type": "code",
   "execution_count": 0,
   "metadata": {
    "application/vnd.databricks.v1+cell": {
     "cellMetadata": {
      "byteLimit": 2048000,
      "rowLimit": 10000
     },
     "inputWidgets": {},
     "nuid": "8d79f5bb-4013-4c51-8df2-d5588f987082",
     "showTitle": false,
     "title": ""
    }
   },
   "outputs": [],
   "source": [
    "%run \"./data_factory_loader_pattern\""
   ]
  },
  {
   "cell_type": "code",
   "execution_count": 0,
   "metadata": {
    "application/vnd.databricks.v1+cell": {
     "cellMetadata": {
      "byteLimit": 2048000,
      "rowLimit": 10000
     },
     "inputWidgets": {},
     "nuid": "e75c90ce-e434-47ff-a1ff-0581f763f5eb",
     "showTitle": false,
     "title": ""
    }
   },
   "outputs": [],
   "source": [
    "%run \"./load_file\""
   ]
  },
  {
   "cell_type": "markdown",
   "metadata": {
    "application/vnd.databricks.v1+cell": {
     "cellMetadata": {},
     "inputWidgets": {},
     "nuid": "1161138c-0151-491a-a126-bbe3e1bf00c4",
     "showTitle": false,
     "title": ""
    }
   },
   "source": [
    "Question1: Customers who bought AirPods after Iphone"
   ]
  },
  {
   "cell_type": "code",
   "execution_count": 0,
   "metadata": {
    "application/vnd.databricks.v1+cell": {
     "cellMetadata": {
      "byteLimit": 2048000,
      "rowLimit": 10000
     },
     "inputWidgets": {},
     "nuid": "d7d310ca-47a1-4f7b-a86d-6c28762ad4a9",
     "showTitle": false,
     "title": ""
    }
   },
   "outputs": [],
   "source": [
    "class AirpodsafterIphone:\n",
    "    \"\"\"\n",
    "        ETL pipeline to extract customers who bought Airpods after Iphone.\n",
    "    \"\"\"\n",
    "    def __init__(self):\n",
    "        pass\n",
    "\n",
    "    def runner(self):\n",
    "        try:\n",
    "            # Extract the data from extractor file\n",
    "            InputDFs = AirpodsAfterIphoneExtractor().extract()\n",
    "\n",
    "            # Apply the FirstTransform\n",
    "            # FirstTransform().transform(transactionInputDF)\n",
    "            transformDF = FirstTransform().transform(InputDFs)\n",
    "\n",
    "            # upload the dataframe to datalake: DBFS\n",
    "            AirpodsafterIphone(transformDF).sink()\n",
    "        \n",
    "        except Exception as e:\n",
    "            print(f\"An error occurred: {e}\")\n",
    "\n",
    "# Create an instance of WorkFlow and run it\n",
    "# workflow = WorkFlow()\n",
    "# workflow.runner()"
   ]
  },
  {
   "cell_type": "markdown",
   "metadata": {
    "application/vnd.databricks.v1+cell": {
     "cellMetadata": {},
     "inputWidgets": {},
     "nuid": "41e56071-af38-4762-93fe-2a3baa1a98d8",
     "showTitle": false,
     "title": ""
    }
   },
   "source": [
    "Question2: Customers who bought only Iphone and AirPods."
   ]
  },
  {
   "cell_type": "code",
   "execution_count": 0,
   "metadata": {
    "application/vnd.databricks.v1+cell": {
     "cellMetadata": {
      "byteLimit": 2048000,
      "rowLimit": 10000
     },
     "inputWidgets": {},
     "nuid": "d223e985-0de1-4fca-abbb-9e04bcf58170",
     "showTitle": false,
     "title": ""
    }
   },
   "outputs": [],
   "source": [
    "class OnlyIphoneAndAirpods:\n",
    "    \"\"\"\n",
    "        ETL pipeline to extract customers who bought only Iphone and AirPods.\n",
    "    \"\"\"\n",
    "    def __init__(self):\n",
    "        pass\n",
    "\n",
    "    def runner(self):\n",
    "        try:\n",
    "            # Extract the data from extractor file\n",
    "            InputDFs = AirpodsAfterIphoneExtractor().extract()\n",
    "\n",
    "            # Apply the FirstTransform\n",
    "            # FirstTransform().transform(transactionInputDF)\n",
    "            transformDF = SecondTransform().transform(InputDFs)\n",
    "\n",
    "            # upload the dataframe to datalake: DBFS\n",
    "            OnlyIphoneandAirPods(transformDF).sink()\n",
    "        \n",
    "        except Exception as e:\n",
    "            print(f\"An error occurred: {e}\")\n"
   ]
  },
  {
   "cell_type": "markdown",
   "metadata": {
    "application/vnd.databricks.v1+cell": {
     "cellMetadata": {},
     "inputWidgets": {},
     "nuid": "a317f055-111f-4931-95dc-070f9080ad01",
     "showTitle": false,
     "title": ""
    }
   },
   "source": [
    "Question3: Products bought by each customer after their initial purchase."
   ]
  },
  {
   "cell_type": "code",
   "execution_count": 0,
   "metadata": {
    "application/vnd.databricks.v1+cell": {
     "cellMetadata": {
      "byteLimit": 2048000,
      "rowLimit": 10000
     },
     "inputWidgets": {},
     "nuid": "5a132750-8e78-48b6-8a0a-331ea75365c9",
     "showTitle": false,
     "title": ""
    }
   },
   "outputs": [],
   "source": [
    "class ProductsAfterInitialPurchase:\n",
    "    \"\"\"\n",
    "        ETL pipeline to extract customers who bought only Iphone and AirPods.\n",
    "    \"\"\"\n",
    "    def __init__(self):\n",
    "        pass\n",
    "\n",
    "    def runner(self):\n",
    "        try:\n",
    "            # Extract the data from extractor file\n",
    "            InputDFs = AirpodsAfterIphoneExtractor().extract()\n",
    "\n",
    "            # Apply the FirstTransform\n",
    "            # FirstTransform().transform(transactionInputDF)\n",
    "            transformDF = ThirdTransform().transform(InputDFs)\n",
    "\n",
    "            # upload the dataframe to datalake: DBFS\n",
    "            ProductsInitialPurchase(transformDF).sink()\n",
    "        \n",
    "        except Exception as e:\n",
    "            print(f\"An error occurred: {e}\")"
   ]
  },
  {
   "cell_type": "markdown",
   "metadata": {
    "application/vnd.databricks.v1+cell": {
     "cellMetadata": {},
     "inputWidgets": {},
     "nuid": "2a78f707-b07f-4f81-a7a8-dd0b36a5bb3e",
     "showTitle": false,
     "title": ""
    }
   },
   "source": [
    "Question4: Determine average time delay buying an iPhone and Airpods by each customer."
   ]
  },
  {
   "cell_type": "code",
   "execution_count": 0,
   "metadata": {
    "application/vnd.databricks.v1+cell": {
     "cellMetadata": {
      "byteLimit": 2048000,
      "rowLimit": 10000
     },
     "inputWidgets": {},
     "nuid": "4f552261-c717-4f4c-b3db-a4b7dc26c472",
     "showTitle": false,
     "title": ""
    }
   },
   "outputs": [],
   "source": [
    "class AverageTimeDelayProducts:\n",
    "    \"\"\"\n",
    "        ETL pipeline to extract Average time delay between Iphone and Airpods by each customer.\n",
    "    \"\"\"\n",
    "    def __init__(self):\n",
    "        pass\n",
    "\n",
    "    def runner(self):\n",
    "        try:\n",
    "            # Extract the data from extractor file\n",
    "            InputDFs = AirpodsAfterIphoneExtractor().extract()\n",
    "\n",
    "            # Apply the FirstTransform\n",
    "            # FirstTransform().transform(transactionInputDF)\n",
    "            transformDF = FourthTransform().transform(InputDFs)\n",
    "\n",
    "            # upload the dataframe to datalake: DBFS\n",
    "            AveragetimeDelayProducts(transformDF).sink()\n",
    "        \n",
    "        except Exception as e:\n",
    "            print(f\"An error occurred: {e}\")"
   ]
  },
  {
   "cell_type": "markdown",
   "metadata": {
    "application/vnd.databricks.v1+cell": {
     "cellMetadata": {},
     "inputWidgets": {},
     "nuid": "85f80b63-e1df-4498-accf-fd51f0873b47",
     "showTitle": false,
     "title": ""
    }
   },
   "source": [
    "Question5: Identify the top 3 selling products by the total revenue?"
   ]
  },
  {
   "cell_type": "code",
   "execution_count": 0,
   "metadata": {
    "application/vnd.databricks.v1+cell": {
     "cellMetadata": {
      "byteLimit": 2048000,
      "rowLimit": 10000
     },
     "inputWidgets": {},
     "nuid": "d339b3ba-9d63-470a-8355-b21c88005f69",
     "showTitle": false,
     "title": ""
    }
   },
   "outputs": [],
   "source": [
    "class Top3ProductsRevenue:\n",
    "    \"\"\"\n",
    "        ETL pipeline to extract top 3 products by total revenue.\n",
    "    \"\"\"\n",
    "    def __init__(self):\n",
    "        pass\n",
    "\n",
    "    def runner(self):\n",
    "        try:\n",
    "            # Extract the data from extractor file\n",
    "            InputDFs = AirpodsAfterIphoneExtractor().extract()\n",
    "\n",
    "            # Apply the FirstTransform\n",
    "            # FirstTransform().transform(transactionInputDF)\n",
    "            transformDF = FifthTransform().transform(InputDFs)\n",
    "\n",
    "            # upload the dataframe to datalake: DBFS\n",
    "            Top3productsrevenue(transformDF).sink()\n",
    "        \n",
    "        except Exception as e:\n",
    "            print(f\"An error occurred: {e}\")"
   ]
  },
  {
   "cell_type": "markdown",
   "metadata": {
    "application/vnd.databricks.v1+cell": {
     "cellMetadata": {},
     "inputWidgets": {},
     "nuid": "4c8609fc-1e94-426e-bc08-92eea2977678",
     "showTitle": false,
     "title": ""
    }
   },
   "source": [
    "#### Automating all the workflows above"
   ]
  },
  {
   "cell_type": "code",
   "execution_count": 0,
   "metadata": {
    "application/vnd.databricks.v1+cell": {
     "cellMetadata": {
      "byteLimit": 2048000,
      "rowLimit": 10000
     },
     "inputWidgets": {},
     "nuid": "517b0ea1-44cb-44ef-b50e-fe45d3b335f4",
     "showTitle": false,
     "title": ""
    }
   },
   "outputs": [
    {
     "output_type": "stream",
     "name": "stdout",
     "output_type": "stream",
     "text": [
      "+--------------+-----------+------------+----------------+\n|transaction_id|customer_id|product_name|transaction_date|\n+--------------+-----------+------------+----------------+\n|            11|        105|      iPhone|      2022-02-01|\n|            14|        105|     AirPods|      2022-02-04|\n|            18|        105|     MacBook|      2022-02-08|\n|            12|        106|      iPhone|      2022-02-02|\n|            16|        106|     MacBook|      2022-02-06|\n|            20|        106|     AirPods|      2022-02-10|\n|            13|        107|     AirPods|      2022-02-03|\n|            17|        107|      iPhone|      2022-02-07|\n|            15|        108|      iPhone|      2022-02-05|\n|            19|        108|     AirPods|      2022-02-09|\n+--------------+-----------+------------+----------------+\n\nmy input dataframe is below\n+--------------+-----------+------------+----------------+\n|transaction_id|customer_id|product_name|transaction_date|\n+--------------+-----------+------------+----------------+\n|            11|        105|      iPhone|      2022-02-01|\n|            12|        106|      iPhone|      2022-02-02|\n|            13|        107|     AirPods|      2022-02-03|\n|            14|        105|     AirPods|      2022-02-04|\n|            15|        108|      iPhone|      2022-02-05|\n|            16|        106|     MacBook|      2022-02-06|\n|            17|        107|      iPhone|      2022-02-07|\n|            18|        105|     MacBook|      2022-02-08|\n|            19|        108|     AirPods|      2022-02-09|\n|            20|        106|     AirPods|      2022-02-10|\n+--------------+-----------+------------+----------------+\n\nAirpods after buying iPhone\n+--------------+-----------+------------+----------------+---------+\n|transaction_id|customer_id|product_name|transaction_date|next_prod|\n+--------------+-----------+------------+----------------+---------+\n|            11|        105|      iPhone|      2022-02-01|  AirPods|\n|            14|        105|     AirPods|      2022-02-04|  MacBook|\n|            18|        105|     MacBook|      2022-02-08|     null|\n|            12|        106|      iPhone|      2022-02-02|  MacBook|\n|            16|        106|     MacBook|      2022-02-06|  AirPods|\n|            20|        106|     AirPods|      2022-02-10|     null|\n|            13|        107|     AirPods|      2022-02-03|   iPhone|\n|            17|        107|      iPhone|      2022-02-07|     null|\n|            15|        108|      iPhone|      2022-02-05|  AirPods|\n|            19|        108|     AirPods|      2022-02-09|     null|\n+--------------+-----------+------------+----------------+---------+\n\ngetting the final customer id\nAn error occurred: __init__() takes 1 positional argument but 2 were given\n+--------------+-----------+------------+----------------+\n|transaction_id|customer_id|product_name|transaction_date|\n+--------------+-----------+------------+----------------+\n|            11|        105|      iPhone|      2022-02-01|\n|            14|        105|     AirPods|      2022-02-04|\n|            18|        105|     MacBook|      2022-02-08|\n|            12|        106|      iPhone|      2022-02-02|\n|            16|        106|     MacBook|      2022-02-06|\n|            20|        106|     AirPods|      2022-02-10|\n|            13|        107|     AirPods|      2022-02-03|\n|            17|        107|      iPhone|      2022-02-07|\n|            15|        108|      iPhone|      2022-02-05|\n|            19|        108|     AirPods|      2022-02-09|\n+--------------+-----------+------------+----------------+\n\n+-----------+-----------------+\n|customer_id|  collect_product|\n+-----------+-----------------+\n|        107|[AirPods, iPhone]|\n|        108|[AirPods, iPhone]|\n+-----------+-----------------+\n\nFollowing are the details: Customer who bought only Iphone and AirPods\n+-----------+-------------+--------+-----------------+\n|customer_id|customer_name|location|  collect_product|\n+-----------+-------------+--------+-----------------+\n|        107|        Grace|Colorado|[AirPods, iPhone]|\n|        108|        Henry|    Utah|[AirPods, iPhone]|\n+-----------+-------------+--------+-----------------+\n\nLoading completed to datalake by location partition\n+--------------+-----------+------------+----------------+\n|transaction_id|customer_id|product_name|transaction_date|\n+--------------+-----------+------------+----------------+\n|            11|        105|      iPhone|      2022-02-01|\n|            14|        105|     AirPods|      2022-02-04|\n|            18|        105|     MacBook|      2022-02-08|\n|            12|        106|      iPhone|      2022-02-02|\n|            16|        106|     MacBook|      2022-02-06|\n|            20|        106|     AirPods|      2022-02-10|\n|            13|        107|     AirPods|      2022-02-03|\n|            17|        107|      iPhone|      2022-02-07|\n|            15|        108|      iPhone|      2022-02-05|\n|            19|        108|     AirPods|      2022-02-09|\n+--------------+-----------+------------+----------------+\n\n+-----------+--------------+------------+----------------+----------+\n|customer_id|transaction_id|product_name|transaction_date|  min_date|\n+-----------+--------------+------------+----------------+----------+\n|        105|            11|      iPhone|      2022-02-01|2022-02-01|\n|        106|            12|      iPhone|      2022-02-02|2022-02-02|\n|        107|            13|     AirPods|      2022-02-03|2022-02-03|\n|        105|            14|     AirPods|      2022-02-04|2022-02-01|\n|        108|            15|      iPhone|      2022-02-05|2022-02-05|\n|        106|            16|     MacBook|      2022-02-06|2022-02-02|\n|        107|            17|      iPhone|      2022-02-07|2022-02-03|\n|        105|            18|     MacBook|      2022-02-08|2022-02-01|\n|        108|            19|     AirPods|      2022-02-09|2022-02-05|\n|        106|            20|     AirPods|      2022-02-10|2022-02-02|\n+-----------+--------------+------------+----------------+----------+\n\nList of products bought by each customer after their initial purchase\n+-----------+------------------+\n|customer_id|   collect_product|\n+-----------+------------------+\n|        105|[AirPods, MacBook]|\n|        106|[MacBook, AirPods]|\n|        107|          [iPhone]|\n|        108|         [AirPods]|\n+-----------+------------------+\n\nLoading completed to the datalake\n+--------------+-----------+------------+----------------+\n|transaction_id|customer_id|product_name|transaction_date|\n+--------------+-----------+------------+----------------+\n|            11|        105|      iPhone|      2022-02-01|\n|            14|        105|     AirPods|      2022-02-04|\n|            18|        105|     MacBook|      2022-02-08|\n|            12|        106|      iPhone|      2022-02-02|\n|            16|        106|     MacBook|      2022-02-06|\n|            20|        106|     AirPods|      2022-02-10|\n|            13|        107|     AirPods|      2022-02-03|\n|            17|        107|      iPhone|      2022-02-07|\n|            15|        108|      iPhone|      2022-02-05|\n|            19|        108|     AirPods|      2022-02-09|\n+--------------+-----------+------------+----------------+\n\nGetting the final result\n+-----------+-------------+--------+------------------+\n|customer_id|customer_name|location|average_time_delay|\n+-----------+-------------+--------+------------------+\n|        107|        Grace|Colorado|              -4.0|\n|        108|        Henry|    Utah|               4.0|\n|        106|        Frank|  Nevada|               8.0|\n|        105|          Eva|    Ohio|               3.0|\n+-----------+-------------+--------+------------------+\n\nLoading completed to the datalake\n+--------------+-----------+------------+----------------+\n|transaction_id|customer_id|product_name|transaction_date|\n+--------------+-----------+------------+----------------+\n|            11|        105|      iPhone|      2022-02-01|\n|            14|        105|     AirPods|      2022-02-04|\n|            18|        105|     MacBook|      2022-02-08|\n|            12|        106|      iPhone|      2022-02-02|\n|            16|        106|     MacBook|      2022-02-06|\n|            20|        106|     AirPods|      2022-02-10|\n|            13|        107|     AirPods|      2022-02-03|\n|            17|        107|      iPhone|      2022-02-07|\n|            15|        108|      iPhone|      2022-02-05|\n|            19|        108|     AirPods|      2022-02-09|\n+--------------+-----------+------------+----------------+\n\nGetting the top 3 products by total revenue\n+------------+-----+----------+----------+-----+-------------+\n|product_name|count|product_id|  category|price|total_revenue|\n+------------+-----+----------+----------+-----+-------------+\n|     MacBook|    2|         7|    Laptop| 1000|       2000.0|\n|      iPhone|    4|         5|Smartphone|  450|       1800.0|\n|     AirPods|    4|         6| Accessory|  250|       1000.0|\n+------------+-----+----------+----------+-----+-------------+\n\nLoading completed to the datalake\n"
     ]
    }
   ],
   "source": [
    "class AllworkFlow:\n",
    "    def __init__(self,name):\n",
    "        self.name =name\n",
    "    def runner(self):\n",
    "        if self.name == \"AirpodsafterIphone\":\n",
    "            AirpodsafterIphone().runner()\n",
    "        elif self.name == \"OnlyIphoneAndAirpods\":\n",
    "            OnlyIphoneAndAirpods().runner()\n",
    "        elif self.name == \"ProductsAfterInitialPurchase\":\n",
    "            ProductsAfterInitialPurchase().runner()\n",
    "        elif self.name == \"AverageTimeDelayProducts\":\n",
    "            AverageTimeDelayProducts().runner()\n",
    "        elif self.name == \"Top3ProductsRevenue\":\n",
    "            Top3ProductsRevenue().runner()\n",
    "        else:\n",
    "            raise ValueError(f\"Class is not implemented for method: {self.name}\")\n",
    "\n",
    "AllworkFlow(\"AirpodsafterIphone\").runner()\n",
    "AllworkFlow(\"OnlyIphoneAndAirpods\").runner()\n",
    "AllworkFlow(\"ProductsAfterInitialPurchase\").runner()\n",
    "AllworkFlow(\"AverageTimeDelayProducts\").runner()\n",
    "AllworkFlow(\"Top3ProductsRevenue\").runner()"
   ]
  },
  {
   "cell_type": "code",
   "execution_count": 0,
   "metadata": {
    "application/vnd.databricks.v1+cell": {
     "cellMetadata": {
      "byteLimit": 2048000,
      "rowLimit": 10000
     },
     "inputWidgets": {},
     "nuid": "c4d74968-a76a-404b-bc6e-f91fe2e12f0d",
     "showTitle": false,
     "title": ""
    }
   },
   "outputs": [
    {
     "output_type": "display_data",
     "data": {
      "text/plain": [
       ""
      ]
     },
     "metadata": {
      "application/vnd.databricks.v1+output": {
       "arguments": {},
       "data": "",
       "errorSummary": "Command skipped",
       "errorTraceType": "ansi",
       "metadata": {},
       "type": "ipynbError"
      }
     },
     "output_type": "display_data"
    }
   ],
   "source": [
    "from pyspark.sql import SparkSession"
   ]
  },
  {
   "cell_type": "code",
   "execution_count": 0,
   "metadata": {
    "application/vnd.databricks.v1+cell": {
     "cellMetadata": {
      "byteLimit": 2048000,
      "rowLimit": 10000
     },
     "inputWidgets": {},
     "nuid": "4e9f07fc-d8d2-488e-8de3-79d9c1e933a6",
     "showTitle": false,
     "title": ""
    }
   },
   "outputs": [
    {
     "output_type": "display_data",
     "data": {
      "text/plain": [
       ""
      ]
     },
     "metadata": {
      "application/vnd.databricks.v1+output": {
       "arguments": {},
       "data": "",
       "errorSummary": "Command skipped",
       "errorTraceType": "ansi",
       "metadata": {},
       "type": "ipynbError"
      }
     },
     "output_type": "display_data"
    }
   ],
   "source": [
    "spark = SparkSession.builder.appName(\"big_data_show.me\").getOrCreate()"
   ]
  },
  {
   "cell_type": "code",
   "execution_count": 0,
   "metadata": {
    "application/vnd.databricks.v1+cell": {
     "cellMetadata": {
      "byteLimit": 2048000,
      "rowLimit": 10000
     },
     "inputWidgets": {},
     "nuid": "59baa9ec-750e-4a54-a9f0-49705027e0c0",
     "showTitle": false,
     "title": ""
    }
   },
   "outputs": [
    {
     "output_type": "display_data",
     "data": {
      "text/plain": [
       ""
      ]
     },
     "metadata": {
      "application/vnd.databricks.v1+output": {
       "arguments": {},
       "data": "",
       "errorSummary": "Command skipped",
       "errorTraceType": "ansi",
       "metadata": {},
       "type": "ipynbError"
      }
     },
     "output_type": "display_data"
    }
   ],
   "source": [
    "input_df = spark.read.format('CSV').option('header', True).load('dbfs:/FileStore/tables/Transaction_Updated.csv')\n",
    "input_df.show()"
   ]
  },
  {
   "cell_type": "code",
   "execution_count": 0,
   "metadata": {
    "application/vnd.databricks.v1+cell": {
     "cellMetadata": {
      "byteLimit": 2048000,
      "rowLimit": 10000
     },
     "inputWidgets": {},
     "nuid": "b13ef12c-892b-4d33-9ff5-dbfd000f874c",
     "showTitle": false,
     "title": ""
    }
   },
   "outputs": [
    {
     "output_type": "display_data",
     "data": {
      "text/html": [
       "<style scoped>\n",
       "  .table-result-container {\n",
       "    max-height: 300px;\n",
       "    overflow: auto;\n",
       "  }\n",
       "  table, th, td {\n",
       "    border: 1px solid black;\n",
       "    border-collapse: collapse;\n",
       "  }\n",
       "  th, td {\n",
       "    padding: 5px;\n",
       "  }\n",
       "  th {\n",
       "    text-align: left;\n",
       "  }\n",
       "</style><div class='table-result-container'><table class='table-result'><thead style='background-color: white'><tr><th>path</th><th>name</th><th>size</th><th>modificationTime</th></tr></thead><tbody><tr><td>dbfs:/FileStore/</td><td>FileStore/</td><td>0</td><td>0</td></tr><tr><td>dbfs:/databricks-datasets/</td><td>databricks-datasets/</td><td>0</td><td>0</td></tr><tr><td>dbfs:/databricks-results/</td><td>databricks-results/</td><td>0</td><td>0</td></tr><tr><td>dbfs:/dbfs/</td><td>dbfs/</td><td>0</td><td>0</td></tr><tr><td>dbfs:/user/</td><td>user/</td><td>0</td><td>0</td></tr></tbody></table></div>"
      ]
     },
     "metadata": {
      "application/vnd.databricks.v1+output": {
       "addedWidgets": {},
       "aggData": [],
       "aggError": "",
       "aggOverflow": false,
       "aggSchema": [],
       "aggSeriesLimitReached": false,
       "aggType": "",
       "arguments": {},
       "columnCustomDisplayInfos": {},
       "data": [
        [
         "dbfs:/FileStore/",
         "FileStore/",
         0,
         0
        ],
        [
         "dbfs:/databricks-datasets/",
         "databricks-datasets/",
         0,
         0
        ],
        [
         "dbfs:/databricks-results/",
         "databricks-results/",
         0,
         0
        ],
        [
         "dbfs:/dbfs/",
         "dbfs/",
         0,
         0
        ],
        [
         "dbfs:/user/",
         "user/",
         0,
         0
        ]
       ],
       "datasetInfos": [],
       "dbfsResultPath": null,
       "isJsonSchema": true,
       "metadata": {
        "isDbfsCommandResult": false
       },
       "overflow": false,
       "plotOptions": {
        "customPlotOptions": {},
        "displayType": "table",
        "pivotAggregation": null,
        "pivotColumns": null,
        "xColumns": null,
        "yColumns": null
       },
       "removedWidgets": [],
       "schema": [
        {
         "metadata": "{}",
         "name": "path",
         "type": "\"string\""
        },
        {
         "metadata": "{}",
         "name": "name",
         "type": "\"string\""
        },
        {
         "metadata": "{}",
         "name": "size",
         "type": "\"long\""
        },
        {
         "metadata": "{}",
         "name": "modificationTime",
         "type": "\"long\""
        }
       ],
       "type": "table"
      }
     },
     "output_type": "display_data"
    }
   ],
   "source": [
    "%fs ls"
   ]
  },
  {
   "cell_type": "code",
   "execution_count": 0,
   "metadata": {
    "application/vnd.databricks.v1+cell": {
     "cellMetadata": {
      "byteLimit": 2048000,
      "rowLimit": 10000
     },
     "inputWidgets": {},
     "nuid": "6eb968ca-f16e-4ab6-b2cb-d537ee9a94b1",
     "showTitle": false,
     "title": ""
    }
   },
   "outputs": [
    {
     "output_type": "display_data",
     "data": {
      "text/html": [
       "<style scoped>\n",
       "  .table-result-container {\n",
       "    max-height: 300px;\n",
       "    overflow: auto;\n",
       "  }\n",
       "  table, th, td {\n",
       "    border: 1px solid black;\n",
       "    border-collapse: collapse;\n",
       "  }\n",
       "  th, td {\n",
       "    padding: 5px;\n",
       "  }\n",
       "  th {\n",
       "    text-align: left;\n",
       "  }\n",
       "</style><div class='table-result-container'><table class='table-result'><thead style='background-color: white'><tr><th>path</th><th>name</th><th>size</th><th>modificationTime</th></tr></thead><tbody><tr><td>dbfs:/FileStore/tables/Customer_Updated.csv</td><td>Customer_Updated.csv</td><td>153</td><td>1725603136000</td></tr><tr><td>dbfs:/FileStore/tables/Products_Updated.csv</td><td>Products_Updated.csv</td><td>143</td><td>1725603136000</td></tr><tr><td>dbfs:/FileStore/tables/Transaction_Updated.csv</td><td>Transaction_Updated.csv</td><td>313</td><td>1725603136000</td></tr></tbody></table></div>"
      ]
     },
     "metadata": {
      "application/vnd.databricks.v1+output": {
       "addedWidgets": {},
       "aggData": [],
       "aggError": "",
       "aggOverflow": false,
       "aggSchema": [],
       "aggSeriesLimitReached": false,
       "aggType": "",
       "arguments": {},
       "columnCustomDisplayInfos": {},
       "data": [
        [
         "dbfs:/FileStore/tables/Customer_Updated.csv",
         "Customer_Updated.csv",
         153,
         1725603136000
        ],
        [
         "dbfs:/FileStore/tables/Products_Updated.csv",
         "Products_Updated.csv",
         143,
         1725603136000
        ],
        [
         "dbfs:/FileStore/tables/Transaction_Updated.csv",
         "Transaction_Updated.csv",
         313,
         1725603136000
        ]
       ],
       "datasetInfos": [],
       "dbfsResultPath": null,
       "isJsonSchema": true,
       "metadata": {
        "isDbfsCommandResult": false
       },
       "overflow": false,
       "plotOptions": {
        "customPlotOptions": {},
        "displayType": "table",
        "pivotAggregation": null,
        "pivotColumns": null,
        "xColumns": null,
        "yColumns": null
       },
       "removedWidgets": [],
       "schema": [
        {
         "metadata": "{}",
         "name": "path",
         "type": "\"string\""
        },
        {
         "metadata": "{}",
         "name": "name",
         "type": "\"string\""
        },
        {
         "metadata": "{}",
         "name": "size",
         "type": "\"long\""
        },
        {
         "metadata": "{}",
         "name": "modificationTime",
         "type": "\"long\""
        }
       ],
       "type": "table"
      }
     },
     "output_type": "display_data"
    }
   ],
   "source": [
    "%fs ls dbfs:/FileStore/tables/"
   ]
  },
  {
   "cell_type": "code",
   "execution_count": 0,
   "metadata": {
    "application/vnd.databricks.v1+cell": {
     "cellMetadata": {
      "byteLimit": 2048000,
      "rowLimit": 10000
     },
     "inputWidgets": {},
     "nuid": "3df22835-dd33-4e37-8a37-c495565c985a",
     "showTitle": false,
     "title": ""
    }
   },
   "outputs": [
    {
     "output_type": "display_data",
     "data": {
      "text/html": [
       "<style scoped>\n",
       "  .ansiout {\n",
       "    display: block;\n",
       "    unicode-bidi: embed;\n",
       "    white-space: pre-wrap;\n",
       "    word-wrap: break-word;\n",
       "    word-break: break-all;\n",
       "    font-family: \"Menlo\", \"Monaco\", \"Consolas\", \"Ubuntu Mono\", \"Source Code Pro\", monospace;\n",
       "    font-size: 13px;\n",
       "    color: #555;\n",
       "    margin-left: 4px;\n",
       "    line-height: 19px;\n",
       "  }\n",
       "</style>\n",
       "<div class=\"ansiout\">res4: Boolean = true\n",
       "</div>"
      ]
     },
     "metadata": {
      "application/vnd.databricks.v1+output": {
       "addedWidgets": {},
       "arguments": {},
       "data": "<div class=\"ansiout\">res4: Boolean = true\n</div>",
       "datasetInfos": [],
       "metadata": {
        "isDbfsCommandResult": false
       },
       "removedWidgets": [],
       "type": "html"
      }
     },
     "output_type": "display_data"
    }
   ],
   "source": [
    "%fs mkdirs dbfs:/FileStore/tables/apple_output_analysis/AirpodsafterIphone"
   ]
  },
  {
   "cell_type": "code",
   "execution_count": 0,
   "metadata": {
    "application/vnd.databricks.v1+cell": {
     "cellMetadata": {
      "byteLimit": 2048000,
      "rowLimit": 10000
     },
     "inputWidgets": {},
     "nuid": "0bd80ff8-e00e-4417-9ed1-39517cb146e6",
     "showTitle": false,
     "title": ""
    }
   },
   "outputs": [
    {
     "output_type": "display_data",
     "data": {
      "text/html": [
       "<style scoped>\n",
       "  .table-result-container {\n",
       "    max-height: 300px;\n",
       "    overflow: auto;\n",
       "  }\n",
       "  table, th, td {\n",
       "    border: 1px solid black;\n",
       "    border-collapse: collapse;\n",
       "  }\n",
       "  th, td {\n",
       "    padding: 5px;\n",
       "  }\n",
       "  th {\n",
       "    text-align: left;\n",
       "  }\n",
       "</style><div class='table-result-container'><table class='table-result'><thead style='background-color: white'><tr><th>path</th><th>name</th><th>size</th><th>modificationTime</th></tr></thead><tbody><tr><td>dbfs:/FileStore/tables/Customer_Updated.csv</td><td>Customer_Updated.csv</td><td>153</td><td>1725603136000</td></tr><tr><td>dbfs:/FileStore/tables/Products_Updated.csv</td><td>Products_Updated.csv</td><td>143</td><td>1725603136000</td></tr><tr><td>dbfs:/FileStore/tables/Transaction_Updated.csv</td><td>Transaction_Updated.csv</td><td>313</td><td>1725603136000</td></tr><tr><td>dbfs:/FileStore/tables/apple_output_analysis/</td><td>apple_output_analysis/</td><td>0</td><td>0</td></tr></tbody></table></div>"
      ]
     },
     "metadata": {
      "application/vnd.databricks.v1+output": {
       "addedWidgets": {},
       "aggData": [],
       "aggError": "",
       "aggOverflow": false,
       "aggSchema": [],
       "aggSeriesLimitReached": false,
       "aggType": "",
       "arguments": {},
       "columnCustomDisplayInfos": {},
       "data": [
        [
         "dbfs:/FileStore/tables/Customer_Updated.csv",
         "Customer_Updated.csv",
         153,
         1725603136000
        ],
        [
         "dbfs:/FileStore/tables/Products_Updated.csv",
         "Products_Updated.csv",
         143,
         1725603136000
        ],
        [
         "dbfs:/FileStore/tables/Transaction_Updated.csv",
         "Transaction_Updated.csv",
         313,
         1725603136000
        ],
        [
         "dbfs:/FileStore/tables/apple_output_analysis/",
         "apple_output_analysis/",
         0,
         0
        ]
       ],
       "datasetInfos": [],
       "dbfsResultPath": null,
       "isJsonSchema": true,
       "metadata": {
        "isDbfsCommandResult": false
       },
       "overflow": false,
       "plotOptions": {
        "customPlotOptions": {},
        "displayType": "table",
        "pivotAggregation": null,
        "pivotColumns": null,
        "xColumns": null,
        "yColumns": null
       },
       "removedWidgets": [],
       "schema": [
        {
         "metadata": "{}",
         "name": "path",
         "type": "\"string\""
        },
        {
         "metadata": "{}",
         "name": "name",
         "type": "\"string\""
        },
        {
         "metadata": "{}",
         "name": "size",
         "type": "\"long\""
        },
        {
         "metadata": "{}",
         "name": "modificationTime",
         "type": "\"long\""
        }
       ],
       "type": "table"
      }
     },
     "output_type": "display_data"
    }
   ],
   "source": [
    "%fs ls dbfs:/FileStore/tables/"
   ]
  },
  {
   "cell_type": "code",
   "execution_count": 0,
   "metadata": {
    "application/vnd.databricks.v1+cell": {
     "cellMetadata": {
      "byteLimit": 2048000,
      "rowLimit": 10000
     },
     "inputWidgets": {},
     "nuid": "1eeefe28-5370-4a9e-ab92-cbce61754ec9",
     "showTitle": false,
     "title": ""
    }
   },
   "outputs": [
    {
     "output_type": "display_data",
     "data": {
      "text/html": [
       "<style scoped>\n",
       "  .ansiout {\n",
       "    display: block;\n",
       "    unicode-bidi: embed;\n",
       "    white-space: pre-wrap;\n",
       "    word-wrap: break-word;\n",
       "    word-break: break-all;\n",
       "    font-family: \"Menlo\", \"Monaco\", \"Consolas\", \"Ubuntu Mono\", \"Source Code Pro\", monospace;\n",
       "    font-size: 13px;\n",
       "    color: #555;\n",
       "    margin-left: 4px;\n",
       "    line-height: 19px;\n",
       "  }\n",
       "</style>\n",
       "<div class=\"ansiout\">res0: Boolean = true\n",
       "</div>"
      ]
     },
     "metadata": {
      "application/vnd.databricks.v1+output": {
       "addedWidgets": {},
       "arguments": {},
       "data": "<div class=\"ansiout\">res0: Boolean = true\n</div>",
       "datasetInfos": [],
       "metadata": {
        "isDbfsCommandResult": false
       },
       "removedWidgets": [],
       "type": "html"
      }
     },
     "output_type": "display_data"
    }
   ],
   "source": [
    "%fs mkdirs dbfs:/FileStore/tables/apple_output_analysis/OnlyIphoneAndAirpods"
   ]
  },
  {
   "cell_type": "code",
   "execution_count": 0,
   "metadata": {
    "application/vnd.databricks.v1+cell": {
     "cellMetadata": {
      "byteLimit": 2048000,
      "rowLimit": 10000
     },
     "inputWidgets": {},
     "nuid": "bbcceaff-c50b-49d6-87df-73d35f925655",
     "showTitle": false,
     "title": ""
    }
   },
   "outputs": [
    {
     "output_type": "display_data",
     "data": {
      "text/html": [
       "<style scoped>\n",
       "  .ansiout {\n",
       "    display: block;\n",
       "    unicode-bidi: embed;\n",
       "    white-space: pre-wrap;\n",
       "    word-wrap: break-word;\n",
       "    word-break: break-all;\n",
       "    font-family: \"Menlo\", \"Monaco\", \"Consolas\", \"Ubuntu Mono\", \"Source Code Pro\", monospace;\n",
       "    font-size: 13px;\n",
       "    color: #555;\n",
       "    margin-left: 4px;\n",
       "    line-height: 19px;\n",
       "  }\n",
       "</style>\n",
       "<div class=\"ansiout\">res1: Boolean = true\n",
       "</div>"
      ]
     },
     "metadata": {
      "application/vnd.databricks.v1+output": {
       "addedWidgets": {},
       "arguments": {},
       "data": "<div class=\"ansiout\">res1: Boolean = true\n</div>",
       "datasetInfos": [],
       "metadata": {
        "isDbfsCommandResult": false
       },
       "removedWidgets": [],
       "type": "html"
      }
     },
     "output_type": "display_data"
    }
   ],
   "source": [
    "%fs mkdirs dbfs:/FileStore/tables/apple_output_analysis/ProductsAfterInitialPuchase"
   ]
  },
  {
   "cell_type": "code",
   "execution_count": 0,
   "metadata": {
    "application/vnd.databricks.v1+cell": {
     "cellMetadata": {
      "byteLimit": 2048000,
      "rowLimit": 10000
     },
     "inputWidgets": {},
     "nuid": "d440b581-eef5-4951-b4e2-6cc94cec0302",
     "showTitle": false,
     "title": ""
    }
   },
   "outputs": [
    {
     "output_type": "display_data",
     "data": {
      "text/html": [
       "<style scoped>\n",
       "  .ansiout {\n",
       "    display: block;\n",
       "    unicode-bidi: embed;\n",
       "    white-space: pre-wrap;\n",
       "    word-wrap: break-word;\n",
       "    word-break: break-all;\n",
       "    font-family: \"Menlo\", \"Monaco\", \"Consolas\", \"Ubuntu Mono\", \"Source Code Pro\", monospace;\n",
       "    font-size: 13px;\n",
       "    color: #555;\n",
       "    margin-left: 4px;\n",
       "    line-height: 19px;\n",
       "  }\n",
       "</style>\n",
       "<div class=\"ansiout\">res2: Boolean = true\n",
       "</div>"
      ]
     },
     "metadata": {
      "application/vnd.databricks.v1+output": {
       "addedWidgets": {},
       "arguments": {},
       "data": "<div class=\"ansiout\">res2: Boolean = true\n</div>",
       "datasetInfos": [],
       "metadata": {
        "isDbfsCommandResult": false
       },
       "removedWidgets": [],
       "type": "html"
      }
     },
     "output_type": "display_data"
    }
   ],
   "source": [
    "%fs mkdirs dbfs:/FileStore/tables/apple_output_analysis/AvgTimeIphoneAndAirPods"
   ]
  },
  {
   "cell_type": "code",
   "execution_count": 0,
   "metadata": {
    "application/vnd.databricks.v1+cell": {
     "cellMetadata": {
      "byteLimit": 2048000,
      "rowLimit": 10000
     },
     "inputWidgets": {},
     "nuid": "737e8945-a1e3-47a8-a8b8-2d2221a125fc",
     "showTitle": false,
     "title": ""
    }
   },
   "outputs": [
    {
     "output_type": "display_data",
     "data": {
      "text/html": [
       "<style scoped>\n",
       "  .ansiout {\n",
       "    display: block;\n",
       "    unicode-bidi: embed;\n",
       "    white-space: pre-wrap;\n",
       "    word-wrap: break-word;\n",
       "    word-break: break-all;\n",
       "    font-family: \"Menlo\", \"Monaco\", \"Consolas\", \"Ubuntu Mono\", \"Source Code Pro\", monospace;\n",
       "    font-size: 13px;\n",
       "    color: #555;\n",
       "    margin-left: 4px;\n",
       "    line-height: 19px;\n",
       "  }\n",
       "</style>\n",
       "<div class=\"ansiout\">res3: Boolean = true\n",
       "</div>"
      ]
     },
     "metadata": {
      "application/vnd.databricks.v1+output": {
       "addedWidgets": {},
       "arguments": {},
       "data": "<div class=\"ansiout\">res3: Boolean = true\n</div>",
       "datasetInfos": [],
       "metadata": {
        "isDbfsCommandResult": false
       },
       "removedWidgets": [],
       "type": "html"
      }
     },
     "output_type": "display_data"
    }
   ],
   "source": [
    "%fs mkdirs dbfs:/FileStore/tables/apple_output_analysis/Top3ProductsRevenue"
   ]
  }
 ],
 "metadata": {
  "application/vnd.databricks.v1+notebook": {
   "dashboards": [],
   "environmentMetadata": null,
   "language": "python",
   "notebookMetadata": {
    "mostRecentlyExecutedCommandWithImplicitDF": {
     "commandId": 3014946138453492,
     "dataframes": [
      "_sqldf"
     ]
    },
    "pythonIndentUnit": 4
   },
   "notebookName": "Apple_Analysis1",
   "widgets": {}
  }
 },
 "nbformat": 4,
 "nbformat_minor": 0
}
