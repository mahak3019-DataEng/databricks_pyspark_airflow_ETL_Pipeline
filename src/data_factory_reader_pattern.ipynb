{
 "cells": [
  {
   "cell_type": "code",
   "execution_count": null,
   "metadata": {
    "application/vnd.databricks.v1+cell": {
     "cellMetadata": {
      "byteLimit": 2048000,
      "rowLimit": 10000
     },
     "inputWidgets": {},
     "nuid": "b51b331c-72bf-43fb-ab32-b1197c4fa1a7",
     "showTitle": false,
     "title": ""
    }
   },
   "outputs": [],
   "source": [
    "# creating the abstract class\n",
    "class DataSource:\n",
    "    \"\"\"\n",
    "    Abstract Class\n",
    "    \"\"\"\n",
    "    def __init__(self,path):\n",
    "        self.path = path\n",
    "\n",
    "    def get_data_frame(self):\n",
    "        \"\"\"\n",
    "        Abstract method, this function will be defined in subclass.\n",
    "        \"\"\"\n",
    "        raise ValueError(\"Not Implemented\")\n",
    "\n",
    "class csv_data_source(DataSource):\n",
    "    \"\"\" \n",
    "    Defining the defination of abstract method.\n",
    "    \"\"\"\n",
    "    def get_data_frame(self):\n",
    "        return (\n",
    "            spark.\n",
    "            read.\n",
    "            format('CSV').\n",
    "            option('header',True).\n",
    "            load(self.path)\n",
    "        )\n",
    "class parquet_data_source(DataSource):\n",
    "    \"\"\" \n",
    "    Defining the defination of abstract method.\n",
    "    \"\"\"\n",
    "    def get_data_frame(self):\n",
    "        return (\n",
    "            spark.\n",
    "            read.\n",
    "            format('parquet').\n",
    "            load(self.path)\n",
    "        )\n",
    "class delta_data_source(DataSource):\n",
    "    \"\"\" \n",
    "    Defining the defination of abstract method.\n",
    "    \"\"\"\n",
    "    def get_data_frame(self):\n",
    "        return (\n",
    "            spark.\n",
    "            read.\n",
    "            table(self.path)\n",
    "        )\n",
    "def get_data_source(file_type, file_path):\n",
    "    if file_type == 'csv':\n",
    "        csv_data = csv_data_source(file_path)\n",
    "        return csv_data.get_data_frame()\n",
    "    elif file_type == 'parquet':\n",
    "        parquet_data = parquet_data_source(file_path)\n",
    "        return parquet_data.get_data_frame()\n",
    "    elif file_type == 'delta':\n",
    "        delta_data = delta_data_source(file_path)\n",
    "        return delta_data.get_data_frame()\n",
    "    else:\n",
    "        raise ValueError(f\"Your file type not implemented: {file_type}\")"
   ]
  }
 ],
 "metadata": {
  "application/vnd.databricks.v1+notebook": {
   "dashboards": [],
   "environmentMetadata": null,
   "language": "python",
   "notebookMetadata": {
    "pythonIndentUnit": 4
   },
   "notebookName": "data_factory_reader_pattern",
   "widgets": {}
  },
  "language_info": {
   "name": "python"
  }
 },
 "nbformat": 4,
 "nbformat_minor": 0
}
