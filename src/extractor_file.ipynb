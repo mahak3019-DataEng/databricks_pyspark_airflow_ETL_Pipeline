{
 "cells": [
  {
   "cell_type": "code",
   "execution_count": 0,
   "metadata": {
    "application/vnd.databricks.v1+cell": {
     "cellMetadata": {
      "byteLimit": 2048000,
      "rowLimit": 10000
     },
     "inputWidgets": {},
     "nuid": "49659b07-0861-4080-a35a-d6363a067fe7",
     "showTitle": false,
     "title": ""
    }
   },
   "outputs": [],
   "source": [
    "class Extractor:\n",
    "    def __init__(self):\n",
    "        pass\n",
    "    \"\"\"\n",
    "        This is the abstract class with abstract method.\n",
    "    \"\"\"\n",
    "    def extract(self):\n",
    "        raise ValueError(\"Method not Implemented yet\")\n",
    "\n",
    "class AirpodsAfterIphoneExtractor(Extractor):\n",
    "\n",
    "    def extract(self):\n",
    "        # Get the DataFrame using the factory function\n",
    "        transactionInputDF = get_data_source('csv', 'dbfs:/FileStore/tables/Transaction_Updated.csv')\n",
    "            \n",
    "        # Display the DataFrame ordered by \"customer_id\" and \"transaction_date\"\n",
    "        transactionInputDF.orderBy(\"customer_id\", \"transaction_date\").show()\n",
    "\n",
    "        # Get the dataframe from customer_updated file\n",
    "        customerInputDF = get_data_source('csv','dbfs:/FileStore/tables/Customer_Updated.csv')\n",
    "\n",
    "        productInputDF = get_data_source('csv','dbfs:/FileStore/tables/Products_Updated.csv')\n",
    "\n",
    "        InputDFs = {\n",
    "            'transactionInput' : transactionInputDF,\n",
    "            'customerInput' : customerInputDF,\n",
    "            'productInput' : productInputDF\n",
    "        }\n",
    "        return InputDFs\n",
    "        \n",
    "        "
   ]
  }
 ],
 "metadata": {
  "application/vnd.databricks.v1+notebook": {
   "dashboards": [],
   "environmentMetadata": null,
   "language": "python",
   "notebookMetadata": {
    "pythonIndentUnit": 4
   },
   "notebookName": "extractor_file",
   "widgets": {}
  }
 },
 "nbformat": 4,
 "nbformat_minor": 0
}
