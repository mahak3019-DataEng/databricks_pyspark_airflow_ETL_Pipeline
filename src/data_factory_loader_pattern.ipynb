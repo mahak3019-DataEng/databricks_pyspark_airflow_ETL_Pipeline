{
 "cells": [
  {
   "cell_type": "code",
   "execution_count": 0,
   "metadata": {
    "application/vnd.databricks.v1+cell": {
     "cellMetadata": {
      "byteLimit": 2048000,
      "rowLimit": 10000
     },
     "inputWidgets": {},
     "nuid": "d0b54585-6ccc-41ad-bbbb-049691497528",
     "showTitle": false,
     "title": ""
    }
   },
   "outputs": [],
   "source": [
    "class DataSink:\n",
    "    def __init__(self,df,load_path,mode,part_subs=None):\n",
    "        self.df = df\n",
    "        self.load_path = load_path\n",
    "        self.mode = mode\n",
    "        self.part_subs = part_subs if part_subs else {}\n",
    "    \"\"\"\n",
    "        This is the abstract calss and abstract method\n",
    "    \"\"\"\n",
    "    def upload_dataframe(self):\n",
    "\n",
    "        raise ValueError(\"Method is not Implemented yet\")\n",
    "\n",
    "class LoadtoDBFS(DataSink):\n",
    "\n",
    "    def upload_dataframe(self):\n",
    "        return self.df.write.mode(self.mode).save(self.load_path)\n",
    "\n",
    "class LoadtoDBFSwithPartition(DataSink):\n",
    "\n",
    "    def upload_dataframe(self):\n",
    "\n",
    "        partition_by_columns = self.part_subs.get(\"partition_by_columns\")\n",
    "        return self.df.write.partitionBy(partition_by_columns).mode(self.mode).save(self.load_path)\n",
    "\n",
    "def get_sink_source(sink_type,df,load_path,mode,part_subs=None):\n",
    "    if sink_type == 'dbfs':\n",
    "        return LoadtoDBFS(df,load_path,mode,part_subs).upload_dataframe()\n",
    "    \n",
    "    elif sink_type== 'dbfs_with_partition':\n",
    "        return LoadtoDBFSwithPartition(df,load_path,mode,part_subs).upload_dataframe()\n",
    "    else:\n",
    "        raise ValueError(f\"Not implemented for the data type:{sink_type}\")\n",
    "    \n",
    "        "
   ]
  }
 ],
 "metadata": {
  "application/vnd.databricks.v1+notebook": {
   "dashboards": [],
   "environmentMetadata": null,
   "language": "python",
   "notebookMetadata": {
    "pythonIndentUnit": 4
   },
   "notebookName": "data_factory_loader_pattern",
   "widgets": {}
  }
 },
 "nbformat": 4,
 "nbformat_minor": 0
}
